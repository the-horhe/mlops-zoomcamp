{
 "cells": [
  {
   "cell_type": "markdown",
   "metadata": {},
   "source": [
    "## Module 2 homework\n",
    "\n",
    "Setup:\n",
    "1. Create conda venv: `conda create -n \"mod2_homework\" python=3.9`\n",
    "2. Activate venv: `conda activate mod2_homework`\n",
    "3. cd to homework dir: `cd 02-experiment-tracking/homework/`\n",
    "4. Install dependencies: `pip3 install -r requirements.txt`\n",
    "5. Check mlflow version: `mlflow --version`"
   ]
  },
  {
   "cell_type": "markdown",
   "metadata": {},
   "source": [
    "Questionary answers:\n",
    " - Q1: 2.13.0\n",
    " - Q2: number of files in the output directory = 4\n",
    " - Q3: min_samples_split = 2\n",
    " - Q4: default-artifact-root\n",
    " - Q5: best RMSE = 5.335\n",
    " - Q6: best test_rmse = 5.567\n"
   ]
  }
 ],
 "metadata": {
  "kernelspec": {
   "display_name": "Python 3",
   "language": "python",
   "name": "python3"
  },
  "language_info": {
   "codemirror_mode": {
    "name": "ipython",
    "version": 3
   },
   "file_extension": ".py",
   "mimetype": "text/x-python",
   "name": "python",
   "nbconvert_exporter": "python",
   "pygments_lexer": "ipython3",
   "version": "3.9.19"
  }
 },
 "nbformat": 4,
 "nbformat_minor": 2
}
