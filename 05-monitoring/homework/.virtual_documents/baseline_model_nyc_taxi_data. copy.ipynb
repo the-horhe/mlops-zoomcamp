import requests
import datetime
import pandas as pd


from evidently import ColumnMapping
from evidently.report import Report
from evidently.metrics import ColumnDriftMetric, DatasetDriftMetric, DatasetMissingValuesMetric

from joblib import load, dump
from tqdm import tqdm

from sklearn.linear_model import LinearRegression
from sklearn.metrics import mean_absolute_error, mean_absolute_percentage_error


from evidently.metrics import ColumnQuantileMetric, ColumnValuePlot, ColumnCorrelationsMetric



!pip freeze | grep numpy


files = [('green_tripdata_2024-03.parquet', './data')]

print("Download files:")
for file, path in files:
    url=f"https://d37ci6vzurychx.cloudfront.net/trip-data/{file}"
    resp=requests.get(url, stream=True)
    save_path=f"{path}/{file}"
    with open(save_path, "wb") as handle:
        for data in tqdm(resp.iter_content(),
                        desc=f"{file}",
                        postfix=f"save to {save_path}",
                        total=int(resp.headers["Content-Length"])):
            handle.write(data)


data = pd.read_parquet('data/green_tripdata_2024-03.parquet')



data.describe()


data.shape



# create target
data["duration_min"] = data.lpep_dropoff_datetime - data.lpep_pickup_datetime
data.duration_min = data.duration_min.apply(lambda td : float(td.total_seconds())/60)


# filter out outliers
data = data[(data.duration_min >= 0) & (data.duration_min <= 60)]
data = data[(data.passenger_count > 0) & (data.passenger_count <= 8)]


data.duration_min.hist()


data.head()


data = data.fillna(0)


# data labeling
target = "duration_min"
num_features = ["passenger_count", "trip_distance", "fare_amount", "total_amount"]
cat_features = ["PULocationID", "DOLocationID"]


train_data = data[:30000]
val_data = data[30000:]


model = LinearRegression()



model.fit(train_data[num_features + cat_features], train_data[target])


train_preds = model.predict(train_data[num_features + cat_features])
train_data['prediction'] = train_preds


val_preds = model.predict(val_data[num_features + cat_features])
val_data['prediction'] = val_preds


print(mean_absolute_error(train_data.duration_min, train_data.prediction))
print(mean_absolute_error(val_data.duration_min, val_data.prediction))


train_data.head()


with open('models/lin_reg.bin', 'wb') as f_out:
    dump(model, f_out)


val_data.to_parquet('data/reference.parquet')





column_mapping = ColumnMapping(
    target=None,
    prediction='prediction',
    numerical_features=num_features,
    categorical_features=cat_features
)


report = Report(metrics=[
    ColumnQuantileMetric(column_name="fare_amount", quantile=0.5),
    ColumnValuePlot(column_name="passenger_count"),
    ColumnCorrelationsMetric(column_name="prediction")
    # ColumnDriftMetric(column_name='prediction'),
    # DatasetDriftMetric(),
    # DatasetMissingValuesMetric()
]
)


report.run(reference_data=train_data, current_data=val_data, column_mapping=column_mapping)



report.show(mode='inline')



result = report.as_dict()



result


#prediction drift
result['metrics'][0]['result']['drift_score']


#number of drifted columns
result['metrics'][1]['result']['number_of_drifted_columns']


#share of missing values
result['metrics'][2]['result']['current']['share_of_missing_values']





from evidently.metric_preset import DataDriftPreset, DataQualityPreset

from evidently.ui.workspace import Workspace
from evidently.ui.dashboards import DashboardPanelCounter, DashboardPanelPlot, CounterAgg, PanelValue, PlotType, ReportFilter
from evidently.renderers.html_widgets import WidgetSize


ws = Workspace("workspace")



project = ws.create_project("NYC Taxi Data Quality Project")
project.description = "My project descriotion"
project.save()


regular_report = Report(
    metrics=[
        DataQualityPreset()
    ],
    timestamp=datetime.datetime(2022,1,28)
)

regular_report.run(reference_data=None,
                  current_data=val_data.loc[val_data.lpep_pickup_datetime.between('2022-01-28', '2022-01-29', inclusive="left")],
                  column_mapping=column_mapping)

regular_report


ws.add_report(project.id, regular_report)



#configure the dashboard
project.dashboard.add_panel(
    DashboardPanelCounter(
        filter=ReportFilter(metadata_values={}, tag_values=[]),
        agg=CounterAgg.NONE,
        title="NYC taxi data dashboard"
    )
)

project.dashboard.add_panel(
    DashboardPanelPlot(
        filter=ReportFilter(metadata_values={}, tag_values=[]),
        title="Inference Count",
        values=[
            PanelValue(
                metric_id="DatasetSummaryMetric",
                field_path="current.number_of_rows",
                legend="count"
            ),
        ],
        plot_type=PlotType.BAR,
        size=WidgetSize.HALF,
    ),
)

project.dashboard.add_panel(
    DashboardPanelPlot(
        filter=ReportFilter(metadata_values={}, tag_values=[]),
        title="Number of Missing Values",
        values=[
            PanelValue(
                metric_id="DatasetSummaryMetric",
                field_path="current.number_of_missing_values",
                legend="count"
            ),
        ],
        plot_type=PlotType.LINE,
        size=WidgetSize.HALF,
    ),
)

project.save()


regular_report = Report(
    metrics=[
        DataQualityPreset()
    ],
    timestamp=datetime.datetime(2022,1,29)
)

regular_report.run(reference_data=None,
                  current_data=val_data.loc[val_data.lpep_pickup_datetime.between('2022-01-29', '2022-01-30', inclusive="left")],
                  column_mapping=column_mapping)

regular_report


ws.add_report(project.id, regular_report)

