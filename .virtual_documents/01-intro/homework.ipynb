import pandas as pd


import seaborn as sns
import matplotlib.pylab as plt


from sklearn.feature_extraction import DictVectorizer
from sklearn.linear_model import LinearRegression
from sklearn.metrics import mean_squared_error


def load_df(url: str) -> pd.DataFrame:
    df = pd.read_parquet(url)

    df["duration"] = (df["tpep_dropoff_datetime"] - df["tpep_pickup_datetime"])
    df["duration_min"] = df.duration.apply(lambda td: td.total_seconds() / 60)

    prepare_for_vectoriser = ["PULocationID", "DOLocationID"]
    df[prepare_for_vectoriser] = df[prepare_for_vectoriser].astype("str")

    return df


# https://www.nyc.gov/site/tlc/about/tlc-trip-record-data.page
df_train = load_df("https://d37ci6vzurychx.cloudfront.net/trip-data/yellow_tripdata_2023-01.parquet")


display(df_train.head())
display(df_train.shape)
df_train.duration_min.std()

# Q1: 19 columns in dataset + 2 added by me
# Q2: duration std ~= 42.59


sns.histplot(
    df_train.duration_min, kde=True, stat="density", bins=100, 
    alpha=.4, edgecolor=(1, 1, 1, .4), kde_kws=dict(cut=3),
)


((df_train["duration_min"] >= 1) & (df_train["duration_min"] <= 60)).mean()


# Q3: 98% will be left in dataset after outliers drop


def remove_outliers(df: pd.DataFrame) -> pd.DataFrame:
    df = df[(df["duration_min"] >= 1) & (df["duration_min"] <= 60)]
    
    return df


df_train = remove_outliers(df_train)


sns.histplot(
    df_train.duration_min, kde=True, stat="density", bins=100, 
    alpha=.4, edgecolor=(1, 1, 1, .4), kde_kws=dict(cut=3),
)


df_val = load_df("https://d37ci6vzurychx.cloudfront.net/trip-data/yellow_tripdata_2023-02.parquet")

# Meh, it's kinda wrong, but I think this is intended in this course.
df_val = remove_outliers(df_val)


categorical = ["PULocationID", "DOLocationID"]
numerical = ["trip_distance"]

train_dict = df_train[categorical + numerical].to_dict(orient="records")
val_dict = df_val[categorical + numerical].to_dict(orient="records")

dv = DictVectorizer()
X_train = dv.fit_transform(train_dict)
X_val = dv.transform(val_dict)



X_train, X_val
# q4: 516 columns


target = "duration_min"

y_train = df_train[target].values
y_val = df_val[target].values


lr = LinearRegression()
lr.fit(X_train, y_train)


y_pred_train = lr.predict(X_train)


sns.distplot(y_pred_train, label="prediction")
sns.distplot(y_train, label="actual")

plt.legend()


mean_squared_error(y_train, y_pred_train, squared=False)


# q5: RMSE train vs train pradictions ~7.65


y_pred_val = lr.predict(X_val)


sns.distplot(y_pred_val, label="prediction")
sns.distplot(y_val, label="actual")

plt.legend()


mean_squared_error(y_val, y_pred_val, squared=False)


# q6: RMSE eval vs eval pradictions ~7.82



